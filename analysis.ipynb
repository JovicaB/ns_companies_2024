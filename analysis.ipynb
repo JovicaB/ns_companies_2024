{
 "cells": [
  {
   "cell_type": "markdown",
   "id": "f88d6219",
   "metadata": {},
   "source": [
    "## Eksplorativna i statistička analiza novosadskih kompanija prema zvaničnim podacima iz finansijskih izveštaja za 2024. godinu\n",
    "\n",
    "Obuhvata aktivne kompanije iz Novog Sada koje posluju kao društva sa ograničenom odgovornošću (DOO), prema podacima iz finansijskih izveštaja za 2024. godinu.\n",
    "\n",
    "Izvor podataka: Agencija za privredne registre Republike Srbije"
   ]
  },
  {
   "cell_type": "code",
   "execution_count": 35,
   "id": "a13760ab",
   "metadata": {},
   "outputs": [],
   "source": [
    "import pandas as pd\n",
    "import numpy as np\n",
    "\n",
    "import matplotlib.pyplot as plt\n",
    "import seaborn as sns\n",
    "\n",
    "from scipy.stats import f_oneway\n",
    "from sklearn.linear_model import LinearRegression\n",
    "\n",
    "pd.options.display.float_format = '{:,.2f}'.format"
   ]
  },
  {
   "cell_type": "markdown",
   "id": "cb8671b0",
   "metadata": {},
   "source": [
    "Podaci o novosadskim kompanijama prema podacima iz finansijskih izveštaja iz 2024. godine"
   ]
  },
  {
   "cell_type": "code",
   "execution_count": 36,
   "id": "d286a26d",
   "metadata": {},
   "outputs": [],
   "source": [
    "df = pd.read_parquet(\"data/novi_sad_2024.parquet\")"
   ]
  },
  {
   "cell_type": "markdown",
   "id": "87a09eaa",
   "metadata": {},
   "source": [
    "DataFrame šifara i opisa delatnosti privrede"
   ]
  },
  {
   "cell_type": "code",
   "execution_count": 37,
   "id": "fc2e635e",
   "metadata": {},
   "outputs": [],
   "source": [
    "delatnosti_df = pd.read_parquet(\"data/delatnosti.parquet\")"
   ]
  },
  {
   "cell_type": "markdown",
   "id": "c9e6ef38",
   "metadata": {},
   "source": [
    "### 1. OSNOVNE INFORMACIJE O DATASETU"
   ]
  },
  {
   "cell_type": "code",
   "execution_count": 38,
   "id": "e74c322b",
   "metadata": {},
   "outputs": [
    {
     "data": {
      "text/plain": [
       "(3327, 23)"
      ]
     },
     "execution_count": 38,
     "metadata": {},
     "output_type": "execute_result"
    }
   ],
   "source": [
    "df.shape"
   ]
  },
  {
   "cell_type": "code",
   "execution_count": 39,
   "id": "f4dea4d7",
   "metadata": {},
   "outputs": [
    {
     "data": {
      "text/plain": [
       "MB                     0\n",
       "PIB                    0\n",
       "Datum osnivanja        0\n",
       "Naziv preduzeća        0\n",
       "Mesto                  0\n",
       "Poštanski broj         0\n",
       "Adresa                 0\n",
       "Telefon             1856\n",
       "Pravni oblik           0\n",
       "Šifra delatnosti       0\n",
       "Naziv delatnosti       0\n",
       "APR Status             0\n",
       "NBS Status             0\n",
       "Bonitetna ocena        0\n",
       "Veličina               2\n",
       "Promet (EUR)           0\n",
       "Neto dobit (EUR)       0\n",
       "Broj zaposlenih        0\n",
       "Ebit (EUR)             0\n",
       "Ebitda (EUR)           0\n",
       "Email                 98\n",
       "Zastupnik              3\n",
       "PDV Obveznik         833\n",
       "dtype: int64"
      ]
     },
     "execution_count": 39,
     "metadata": {},
     "output_type": "execute_result"
    }
   ],
   "source": [
    "df.isna().sum()"
   ]
  },
  {
   "cell_type": "code",
   "execution_count": 40,
   "id": "610355b0",
   "metadata": {},
   "outputs": [
    {
     "data": {
      "text/plain": [
       "Index(['MB', 'PIB', 'Datum osnivanja', 'Naziv preduzeća', 'Mesto',\n",
       "       'Poštanski broj', 'Adresa', 'Telefon', 'Pravni oblik',\n",
       "       'Šifra delatnosti', 'Naziv delatnosti', 'APR Status', 'NBS Status',\n",
       "       'Bonitetna ocena', 'Veličina', 'Promet (EUR)', 'Neto dobit (EUR)',\n",
       "       'Broj zaposlenih', 'Ebit (EUR)', 'Ebitda (EUR)', 'Email', 'Zastupnik',\n",
       "       'PDV Obveznik'],\n",
       "      dtype='object')"
      ]
     },
     "execution_count": 40,
     "metadata": {},
     "output_type": "execute_result"
    }
   ],
   "source": [
    "df.columns"
   ]
  },
  {
   "cell_type": "markdown",
   "id": "89a3a64e",
   "metadata": {},
   "source": [
    "### 2. ČIŠĆENJE PODATAKA"
   ]
  },
  {
   "cell_type": "markdown",
   "id": "fe0c3be9",
   "metadata": {},
   "source": [
    "- 2.A. Uklanjanje kolona koje sadrže kontakt informacije i kolona sa podacima koji se neće koristiti.\n",
    "- 2.B. Brisanje 2 zapisa gde veličina nije određena\n",
    "- 2.C. Preimenovanje kolona radi lakšeg pozivanja atributa.\n",
    "- 2.D. Filtriranje šifara delatnosti:\n",
    "  - Filtriranje retkih delatnosti i onih čija šifra ne može da se podeli na sektor/industriju (count: 48)\n",
    "  - Svođenje delatnosti na sektor i industrijski nivo\n",
    "- 2.E. Konverzija datuma osnivanja u godinu osnivanja\n",
    "- 2.F. Uklanjanje kompanija čiji je prihod 0"
   ]
  },
  {
   "cell_type": "markdown",
   "id": "47a52c25",
   "metadata": {},
   "source": [
    "2.A. Uklanjanje kolona koje sadrže kontakt informacije i kolona sa podacima koji se neće koristiti."
   ]
  },
  {
   "cell_type": "code",
   "execution_count": 41,
   "id": "b766f528",
   "metadata": {},
   "outputs": [],
   "source": [
    "columns_to_remove = [\n",
    "    'MB', 'PIB','Naziv preduzeća','Mesto','Poštanski broj', 'Adresa', 'Telefon', 'Pravni oblik','Naziv delatnosti', 'APR Status', 'NBS Status','Email', 'Zastupnik',\n",
    "       'PDV Obveznik']\n",
    "\n",
    "df_cleaned = df.drop(columns=columns_to_remove)"
   ]
  },
  {
   "cell_type": "markdown",
   "id": "c2f67757",
   "metadata": {},
   "source": [
    "2.B. Brisanje 2 zapisa gde veličina nije određena"
   ]
  },
  {
   "cell_type": "code",
   "execution_count": 42,
   "id": "de03325b",
   "metadata": {},
   "outputs": [],
   "source": [
    "df_cleaned = df_cleaned[df_cleaned['Veličina'].notna()]"
   ]
  },
  {
   "cell_type": "markdown",
   "id": "9430bfe3",
   "metadata": {},
   "source": [
    "2.C. Preimenovanje kolona radi lakšeg pozivanja atributa."
   ]
  },
  {
   "cell_type": "code",
   "execution_count": 43,
   "id": "bfb1d59f",
   "metadata": {},
   "outputs": [
    {
     "data": {
      "text/plain": [
       "Index(['godina_osnivanja', 'sifra_delatnosti', 'bonitet', 'velicina', 'prihod',\n",
       "       'neto_dobit', 'broj_zaposlenih', 'ebit', 'ebitda'],\n",
       "      dtype='object')"
      ]
     },
     "execution_count": 43,
     "metadata": {},
     "output_type": "execute_result"
    }
   ],
   "source": [
    "columns_rename_map = {\n",
    "    \"Datum osnivanja\": \"godina_osnivanja\",\n",
    "    'Šifra delatnosti':'sifra_delatnosti',\n",
    "    'Bonitetna ocena':'bonitet',\n",
    "    'Veličina': 'velicina',\n",
    "    'Promet (EUR)': 'prihod',\n",
    "    'Neto dobit (EUR)': 'neto_dobit',\n",
    "    'Broj zaposlenih': 'broj_zaposlenih',\n",
    "    'Ebit (EUR)': 'ebit',\n",
    "    'Ebitda (EUR)': 'ebitda'\n",
    "}\n",
    "\n",
    "df_cleaned = df_cleaned.rename(columns=columns_rename_map)\n",
    "\n",
    "df_cleaned.columns"
   ]
  },
  {
   "cell_type": "markdown",
   "id": "3091ebc1",
   "metadata": {},
   "source": [
    "2.D. Filtriranje šifara delatnosti"
   ]
  },
  {
   "cell_type": "code",
   "execution_count": 44,
   "id": "b21f264c",
   "metadata": {},
   "outputs": [],
   "source": [
    "# # 2.D.1. Filtriranje retkih delatnosti i onih čija šifra ne može da se podeli na sektor/industriju (count: 48)\n",
    "delatnosti_counts = df_cleaned['sifra_delatnosti'].value_counts()\n",
    "retke_delatnosti = delatnosti_counts[delatnosti_counts < 3].index\n",
    "df_cleaned = df_cleaned[~df_cleaned['sifra_delatnosti'].isin(retke_delatnosti)]\n",
    "\n",
    "# # 2.D.2. Svođenje delatnosti na sektor i industrijski nivo\n",
    "df_cleaned['sektor'] = df_cleaned['sifra_delatnosti'].astype(str).str[:2]\n",
    "df_cleaned.rename(columns={'sifra_delatnosti': 'industrija'}, inplace=True)"
   ]
  },
  {
   "cell_type": "markdown",
   "id": "dbc60688",
   "metadata": {},
   "source": [
    "2.E. Konverzija datuma osnivanja u godinu osnivanja"
   ]
  },
  {
   "cell_type": "code",
   "execution_count": 47,
   "id": "4f1b2fc9",
   "metadata": {},
   "outputs": [],
   "source": [
    "df_cleaned['dekada_osnivanja'] = (df_cleaned['godina_osnivanja'].dt.year // 10) * 10\n",
    "df_cleaned['godina_osnivanja'] = df_cleaned['godina_osnivanja'].dt.year"
   ]
  },
  {
   "cell_type": "markdown",
   "id": "7921d721",
   "metadata": {},
   "source": [
    "2.F. Uklanjanje kompanija čiji je prihod 0"
   ]
  },
  {
   "cell_type": "code",
   "execution_count": 48,
   "id": "003f6422",
   "metadata": {},
   "outputs": [],
   "source": [
    "df_cleaned = df_cleaned[df_cleaned['prihod'] > 0]"
   ]
  },
  {
   "cell_type": "code",
   "execution_count": 49,
   "id": "c9b3908a",
   "metadata": {},
   "outputs": [
    {
     "data": {
      "text/html": [
       "<div>\n",
       "<style scoped>\n",
       "    .dataframe tbody tr th:only-of-type {\n",
       "        vertical-align: middle;\n",
       "    }\n",
       "\n",
       "    .dataframe tbody tr th {\n",
       "        vertical-align: top;\n",
       "    }\n",
       "\n",
       "    .dataframe thead th {\n",
       "        text-align: right;\n",
       "    }\n",
       "</style>\n",
       "<table border=\"1\" class=\"dataframe\">\n",
       "  <thead>\n",
       "    <tr style=\"text-align: right;\">\n",
       "      <th></th>\n",
       "      <th>godina_osnivanja</th>\n",
       "      <th>industrija</th>\n",
       "      <th>bonitet</th>\n",
       "      <th>velicina</th>\n",
       "      <th>prihod</th>\n",
       "      <th>neto_dobit</th>\n",
       "      <th>broj_zaposlenih</th>\n",
       "      <th>ebit</th>\n",
       "      <th>ebitda</th>\n",
       "      <th>sektor</th>\n",
       "      <th>dekada_osnivanja</th>\n",
       "    </tr>\n",
       "  </thead>\n",
       "  <tbody>\n",
       "    <tr>\n",
       "      <th>1097</th>\n",
       "      <td>2020</td>\n",
       "      <td>4321</td>\n",
       "      <td>C2</td>\n",
       "      <td>Mikro</td>\n",
       "      <td>139623</td>\n",
       "      <td>7853</td>\n",
       "      <td>3</td>\n",
       "      <td>11323</td>\n",
       "      <td>15630</td>\n",
       "      <td>43</td>\n",
       "      <td>2020</td>\n",
       "    </tr>\n",
       "    <tr>\n",
       "      <th>1378</th>\n",
       "      <td>1995</td>\n",
       "      <td>6201</td>\n",
       "      <td>C2</td>\n",
       "      <td>Mikro</td>\n",
       "      <td>66521</td>\n",
       "      <td>59</td>\n",
       "      <td>2</td>\n",
       "      <td>290</td>\n",
       "      <td>290</td>\n",
       "      <td>62</td>\n",
       "      <td>1990</td>\n",
       "    </tr>\n",
       "    <tr>\n",
       "      <th>2876</th>\n",
       "      <td>1992</td>\n",
       "      <td>8211</td>\n",
       "      <td>D1</td>\n",
       "      <td>Mikro</td>\n",
       "      <td>7528</td>\n",
       "      <td>59</td>\n",
       "      <td>0</td>\n",
       "      <td>85</td>\n",
       "      <td>854</td>\n",
       "      <td>82</td>\n",
       "      <td>1990</td>\n",
       "    </tr>\n",
       "    <tr>\n",
       "      <th>1682</th>\n",
       "      <td>2023</td>\n",
       "      <td>6201</td>\n",
       "      <td>C1</td>\n",
       "      <td>Mikro</td>\n",
       "      <td>24150</td>\n",
       "      <td>418</td>\n",
       "      <td>1</td>\n",
       "      <td>846</td>\n",
       "      <td>846</td>\n",
       "      <td>62</td>\n",
       "      <td>2020</td>\n",
       "    </tr>\n",
       "    <tr>\n",
       "      <th>224</th>\n",
       "      <td>1991</td>\n",
       "      <td>1812</td>\n",
       "      <td>A3</td>\n",
       "      <td>Malo</td>\n",
       "      <td>1801103</td>\n",
       "      <td>98560</td>\n",
       "      <td>19</td>\n",
       "      <td>78989</td>\n",
       "      <td>114199</td>\n",
       "      <td>18</td>\n",
       "      <td>1990</td>\n",
       "    </tr>\n",
       "  </tbody>\n",
       "</table>\n",
       "</div>"
      ],
      "text/plain": [
       "      godina_osnivanja  industrija bonitet velicina   prihod  neto_dobit  \\\n",
       "1097              2020        4321      C2    Mikro   139623        7853   \n",
       "1378              1995        6201      C2    Mikro    66521          59   \n",
       "2876              1992        8211      D1    Mikro     7528          59   \n",
       "1682              2023        6201      C1    Mikro    24150         418   \n",
       "224               1991        1812      A3     Malo  1801103       98560   \n",
       "\n",
       "      broj_zaposlenih   ebit  ebitda sektor  dekada_osnivanja  \n",
       "1097                3  11323   15630     43              2020  \n",
       "1378                2    290     290     62              1990  \n",
       "2876                0     85     854     82              1990  \n",
       "1682                1    846     846     62              2020  \n",
       "224                19  78989  114199     18              1990  "
      ]
     },
     "execution_count": 49,
     "metadata": {},
     "output_type": "execute_result"
    }
   ],
   "source": [
    "df_cleaned.sample(n=5, random_state=42)"
   ]
  },
  {
   "cell_type": "markdown",
   "id": "28ddc16f",
   "metadata": {},
   "source": [
    "### 3. KONSTRUKCIJA DODATNIH KARAKTERISTIKA (feature engineering)"
   ]
  },
  {
   "cell_type": "markdown",
   "id": "fb14291d",
   "metadata": {},
   "source": [
    "- 3.A. Vrednost operativnih rashoda\n",
    "- 3.B. Vrednost amortizacije\n",
    "- 3.C. marže [neto marža, ebit marža. ebitda marža]\n",
    "- 3.D. Marža amortizacije\n",
    "- 3.E. Marža kamata i poreza"
   ]
  },
  {
   "cell_type": "code",
   "execution_count": 51,
   "id": "36e70a90",
   "metadata": {},
   "outputs": [],
   "source": [
    "df_features = df_cleaned.copy()\n",
    "del df_cleaned"
   ]
  },
  {
   "cell_type": "markdown",
   "id": "1231a2b6",
   "metadata": {},
   "source": [
    "#### 3.A. Operativni rashodi\n",
    "\n",
    "Operativni rashodi predstavljaju ukupne troškove poslovanja kompanije koji nastaju tokom osnovne poslovne aktivnosti, bez uzimanja u obzir amortizacije, kamate i poreza. Izračunavaju se kao razlika između prihoda i EBITDA, što omogućava bolji uvid u troškove koji se direktno odnose na proizvodne i operativne procese. Upoređujući operativne rashode između različitih kompanija, možemo dobiti uvid u efikasnost njihovih operacija i način na koji upravljaju svojim troškovima."
   ]
  },
  {
   "cell_type": "code",
   "execution_count": 52,
   "id": "3907f52c",
   "metadata": {},
   "outputs": [],
   "source": [
    "df_features['operativni_rashodi'] = round(df_features.prihod - df_features.ebitda, 2)"
   ]
  },
  {
   "cell_type": "markdown",
   "id": "bd8a2240",
   "metadata": {},
   "source": [
    "#### 3.B. Vrednost amortizacije\n",
    "\n",
    "Amortizacija predstavlja raspodelu troška kapitalnih ulaganja kroz vreme i obuhvata smanjenje vrednosti dugoročne imovine. Izračunava se kao razlika između EBITDA i EBIT. Analizirajući vrednost amortizacije, možemo proceniti kapitalnu intenzivnost poslovanja kompanije i razumeti kako njena ulaganja u imovinu utiču na finansijske performanse. Upoređujući amortizaciju među kompanijama, možemo uočiti razlike u pristupima kapitalnim ulaganjima i njihovim efektima na profitabilnost."
   ]
  },
  {
   "cell_type": "code",
   "execution_count": 53,
   "id": "1361db41",
   "metadata": {},
   "outputs": [],
   "source": [
    "df_features['amortizacija'] = round(df_features.ebitda - df_features.ebit, 2)"
   ]
  },
  {
   "cell_type": "markdown",
   "id": "ae989257",
   "metadata": {},
   "source": [
    "#### 3.C. Marže"
   ]
  },
  {
   "cell_type": "markdown",
   "id": "21409560",
   "metadata": {},
   "source": [
    "##### 3.C.1. Neto marža\n",
    "\n",
    "Neto marža pokazuje koliko profita ostaje od svaka 100 jedinica prihoda nakon što se oduzmu svi troškovi, porezi i kamate. Upoređujući neto marže između kompanija, možemo utvrditi koja je kompanija efikasnija u konverziji prihoda u čist profit."
   ]
  },
  {
   "cell_type": "code",
   "execution_count": 54,
   "id": "9530a13b",
   "metadata": {},
   "outputs": [],
   "source": [
    "df_features['net_marza'] = round(df_features.neto_dobit / df_features.prihod, 2)"
   ]
  },
  {
   "cell_type": "markdown",
   "id": "c35d1a75",
   "metadata": {},
   "source": [
    "##### 3.C.2. EBIT marža\n",
    "\n",
    "EBIT marža pokazuje koliko od svaka 100 jedinica prihoda ostaje nakon operativnih troškova, pre kamata i poreza. Viša EBIT marža pokazuje da je kompanija efikasnija u generisanju profita iz osnovne delatnosti."
   ]
  },
  {
   "cell_type": "code",
   "execution_count": 55,
   "id": "044adeb0",
   "metadata": {},
   "outputs": [],
   "source": [
    "df_features['ebit_marza'] = round(df_features.ebit / df_features.prihod, 2)"
   ]
  },
  {
   "cell_type": "markdown",
   "id": "85200bd3",
   "metadata": {},
   "source": [
    "##### 3.C.3. EBITDA marža\n",
    "\n",
    "Upoređivanje EBITDA marže pomaže u proceni koja kompanija ima bolju osnovnu operativnu efikasnost, pre nego što se oduzmu negotovinski troškovi kao što je amortizacija. Ovo je posebno korisno za upoređivanje kompanija sa različitim strukturama kapitala ili onih koje posluju u industrijama koje zahtevaju velika ulaganja u opremu, infrastrukturu i dugoročne resurse, kao što su industrija proizvodnje, energetika, telekomunikacije i građevina."
   ]
  },
  {
   "cell_type": "code",
   "execution_count": 56,
   "id": "5efff2d1",
   "metadata": {},
   "outputs": [],
   "source": [
    "df_features['ebitda_marza'] = round(df_features.ebitda / df_features.prihod, 2)"
   ]
  },
  {
   "cell_type": "markdown",
   "id": "e04d4251",
   "metadata": {},
   "source": [
    "##### 3.C.4. Marža amortizacije\n",
    "\n",
    "Razlika između EBITDA i EBIT, izražena kao procenat prihoda, pokazuje koliki deo ostvarenog prihoda se troši na amortizaciju osnovnih sredstava. Ova marža daje uvid u stepen zavisnosti poslovanja od dugotrajne imovine, poput opreme, mašina i objekata. Viša marža ukazuje na kapitalno intenzivnije poslovanje i veća ulaganja u imovinu koja se vremenom troši."
   ]
  },
  {
   "cell_type": "code",
   "execution_count": 57,
   "id": "dbfb42d9",
   "metadata": {},
   "outputs": [],
   "source": [
    "df_features['marza_amortizacije'] = round((df_features.ebitda - df_features.ebit) / df_features.prihod * 100, 2)"
   ]
  },
  {
   "cell_type": "markdown",
   "id": "81ab45dd",
   "metadata": {},
   "source": [
    "##### 3.C.5. Marža kamata i poreza\n",
    "\n",
    "Razlika između EBIT-a i neto profita pokazuje koliki iznos prihoda se troši na kamate i poreze. Ova vrednost omogućava uvid u finansijsko i poresko opterećenje poslovanja. Veći iznosi ukazuju na veće dugove ili viši poreski teret, što može značajno uticati na konačnu profitabilnost kompanije."
   ]
  },
  {
   "cell_type": "code",
   "execution_count": 58,
   "id": "5f0ce1d1",
   "metadata": {},
   "outputs": [],
   "source": [
    "df_features['marza_kamate_poreza'] = round((df_features.ebit - df_features.neto_dobit) / df_features.prihod * 100, 2)"
   ]
  },
  {
   "cell_type": "code",
   "execution_count": 59,
   "id": "3fd590e5",
   "metadata": {},
   "outputs": [
    {
     "data": {
      "text/plain": [
       "Index(['godina_osnivanja', 'industrija', 'bonitet', 'velicina', 'prihod',\n",
       "       'neto_dobit', 'broj_zaposlenih', 'ebit', 'ebitda', 'sektor',\n",
       "       'dekada_osnivanja', 'operativni_rashodi', 'amortizacija', 'net_marza',\n",
       "       'ebit_marza', 'ebitda_marza', 'marza_amortizacije',\n",
       "       'marza_kamate_poreza'],\n",
       "      dtype='object')"
      ]
     },
     "execution_count": 59,
     "metadata": {},
     "output_type": "execute_result"
    }
   ],
   "source": [
    "df_features.columns"
   ]
  },
  {
   "cell_type": "markdown",
   "id": "3c3c7eb2",
   "metadata": {},
   "source": [
    "### 4. EKSPLORATIVNA, STATISTIČKA ANALIZA I VIZUELIZACIJA REZULTATA\n",
    "\n",
    "Napomena o interpretaciji rezultata: \n",
    "Sve analize u ovom projektu imaju za cilj da istraže povezanost između pojedinačnih poslovnih pokazatelja kompanija iz Novog Sada. Iako određeni rezultati pokazuju statistički značajne povezanosti, važno je naglasiti da ove analize ne određuju uzročno-posledične odnose, niti identifikuju presudne faktore. Prikazani rezultati pružaju uvid u obrasce koji zaslužuju dodatnu, dublju analizu, uključujući i druge finansijske, operativne i tržišne aspekte poslovanja.\n",
    "\n",
    "Pored ograničenja u interpretaciji uzročno-posledičnih odnosa, važno je napomenuti da pojedine informacije nisu direktno dostupne u skupu podataka, već su izvedene na osnovu dostupnih finansijskih pokazatelja, zato njihovu tačnost treba tumačiti uslovno, imajući u vidu ograničenja izvora podataka."
   ]
  },
  {
   "cell_type": "markdown",
   "id": "2d1b996d",
   "metadata": {},
   "source": [
    "#### Sadržaj:\n",
    "\n",
    "- A. Prihodi\n",
    "    - 4.A.1. Prihodi prema veličini kompanije. -- OK\n",
    "    - 4.A.2. Prihodi prema broju zaposlenih. -- OK\n",
    "    - 4.A.3. Prihodi prema vrsti sektora poslovanja. -- OK\n",
    "    - 4.A.4. Prosečni prihodi po zaposlenom prema sektoru.\n",
    "    - 4.A.5. Analiza izolovanih slučajeva (outlier): Sektor sa najvećim brojem outlier-a i njihovo prosečno odstupanje od proseka sektora.\n",
    "\n",
    "- B. Rashodi\n",
    "    - 4.B.1. Sektori i industrije sa najvišim i najnižim operativnim rashodima.  ---prihod - EBITDA = operativni rashodixxxxxxxxxxxxxxxxx\n",
    "\n",
    "- C. Neto dobit\n",
    "    - 4.C.1. Najprofitabilnije i najmanje profitabilni sektori i industrije.\n",
    "    - 4.C.2. Neto dobit i broj zaposlenih. -- da li je optimalna utilitizacija zaposlenih u konververziji prihoda u neto dobit\n",
    "    - 4.C.3. Analiza izolovanih slučajeva (outlier): kompanije sa ekstremno visokim prihodom, ali niskom neto maržom.\n",
    "    - 4.C.D. Povezanost boniteta i dobitineto kompanija.\n",
    "\n",
    "- D. Amortizacija kao pokazatelj kapitalnih investiranja -- EBITDA = EBIT + Amortizacija + Deprecijacija\n",
    "    - 4.D.1. Analiza povezanosti vrednosti amortizacije i prihoda, po sektoru, veličini i bonitetu --- - Scatter plot: amortizacija vs prihod (log-skala ako ima outliera) i korelacija+\n",
    "    - 4.D.2. Prossečan neto povraćaj na kapitalna ulaganja. KPI: neto_dobit / amortizacija\n",
    "    - 4.D.3. Prosečna kapitalna ulaganja po zaposlenom po sektoru poslovanja. --- da li je proizvodnja više kapitalno intenzivna od usluga\n",
    "\n",
    "- E. Marže poslovanja\n",
    "    - 4.E.1. Neto marža. dekada osnivanja, sektor i industrija poslovanja\n",
    "    - 4.E.2. EBIT marža. veličina, bonitet, sektor i industrija poslovanja\n",
    "    - 4.E.3. EBITDA marža: veličina, bonitet, sektor i industrija poslovanja\n",
    "    - 4.E.4. Marža amortizacije: veličina, bonitet, sektor poslovanja\n",
    "    - 4.E.5. Marža kamate i poreza. veličina i sektor poslovanja.\n",
    "    - Marža kamate i poreza prema industriji poslovanja -- Koliko je kapitalno ulaganje vezano za industriji kompanije+\n",
    "\n",
    "- F. Zaposleni\n",
    "    - 4.F.1. Prosečan broj zaposlenih prema industriji i sektoru poslovanja.\n",
    "    - 4.F.2. Test normalne distribucije zaposlenih po prihodima ------ Predlog: Kod “test normalnosti”, koristi histogram + Shapiro-Wilk test (ili Anderson-Darling), po grupama prihoda.\n",
    "    - 4.F.3. Prosečan broj zaposlenih prema bonitetnom skoru.\n",
    "    - 4.F.4. Prosečan broj zaposlenih prema dekadi osnivanja.\n",
    "\n",
    "G. Razno\n",
    "    - 4.G.1. Brojčana prezentacija kompanija po veličini\n",
    "    - 4.G.2. Brojčana prezentacija kompanija po bonitetnoj oceni\n",
    "    - 4.G.1. Najzastupljeniji sektori i industrije u novosadskih kompanija.\n",
    "    - 4.G.2. Trend analiza po godini/dekadi osnivanja. (npr. firme osnovane 90-ih vs. 2010-ih).\n",
    "\n",
    "H. Klaster analiza.\n"
   ]
  },
  {
   "cell_type": "code",
   "execution_count": 61,
   "id": "a18a53ad",
   "metadata": {},
   "outputs": [],
   "source": [
    "df_eda = df_features.copy()"
   ]
  },
  {
   "cell_type": "markdown",
   "id": "814f02f7",
   "metadata": {},
   "source": [
    "#### 4.A. Prihodi"
   ]
  },
  {
   "cell_type": "markdown",
   "id": "d38a3305",
   "metadata": {},
   "source": [
    "4.A.1. Prihodi prema veličini kompanije\n",
    "\n",
    "Prihod se analizira u odnosu na veličinu kompanije kako bi se utvrdilo da li postoje značajne razlike u distribuciji prihoda između različitih kategorija veličine. Za procenu povezanosti koristi se jednofaktorska analiza varijanse (ANOVA), dok se raspodela vizualizuje putem box plotova.\n",
    "\n",
    "Nulta hipoteza (H₀): Nema značajne razlike u prihodima između različitih kategorija veličine kompanija.\n",
    "\n",
    "Alternativna hipoteza (H₁): Postoje značajne razlike u prihodima između različitih kategorija veličine kompanija."
   ]
  },
  {
   "cell_type": "code",
   "execution_count": 62,
   "id": "7c819225",
   "metadata": {},
   "outputs": [
    {
     "name": "stdout",
     "output_type": "stream",
     "text": [
      "F-statistika: 1513.1161785344525, p-vrednost: 0.0\n",
      "\n",
      "velicina_kod\n",
      "0      196,919.02\n",
      "1    2,601,137.16\n",
      "2   19,490,112.70\n",
      "3   80,918,168.44\n",
      "Name: prihod, dtype: float64\n"
     ]
    }
   ],
   "source": [
    "# priprema podataka\n",
    "df_eda['velicina_kod'] = df_features['velicina'].map({'Mikro': 0, 'Malo': 1, 'Srednje': 2, 'Veliko': 3})\n",
    "grupe = [grupa['prihod'].values for _, grupa in df_eda.groupby('velicina_kod')]\n",
    "\n",
    "# # ANOVA test\n",
    "f_stat, p_value = f_oneway(*grupe)\n",
    "print(f\"F-statistika: {f_stat}, p-vrednost: {p_value}\")\n",
    "\n",
    "print()\n",
    "\n",
    "# Za utvrđivanje pravca povezanosti\n",
    "print(df_eda.groupby('velicina_kod')['prihod'].mean())"
   ]
  },
  {
   "cell_type": "code",
   "execution_count": 63,
   "id": "dedc2478",
   "metadata": {},
   "outputs": [
    {
     "data": {
      "image/png": "[encoded data removed]",
      "text/plain": [
       "<Figure size 640x480 with 1 Axes>"
      ]
     },
     "metadata": {},
     "output_type": "display_data"
    }
   ],
   "source": [
    "sns.boxplot(x='velicina_kod', y='prihod', data=df_eda)\n",
    "plt.show()"
   ]
  },
  {
   "cell_type": "markdown",
   "id": "7d1442c7",
   "metadata": {},
   "source": [
    "Zaključak\n",
    "\n",
    "Na osnovu ANOVA testa, rezultati pokazuju da postoji značajna razlika u prihodima između različitih veličina kompanija (F-statistika: 1426.43, p-vrednost: 0.0). S obzirom na vrlo malu p-vrednost (manju od 0.05), odbacujemo nultu hipotezu (H₀) i prihvatamo alternativnu hipotezu (H₁), što znači da postoji statistički značajna razlika u prihodima između kompanija različitih veličina.\n",
    "\n",
    "Dodatno, analiza prosečnih prihoda prema veličini kompanije ukazuje da se sa povećanjem veličine kompanije povećavaju i prihodi. Ovo potvrđuje da veće kompanije ostvaruju značajno veće prihode u poređenju sa manjim kompanijama."
   ]
  },
  {
   "cell_type": "markdown",
   "id": "1041a7aa",
   "metadata": {},
   "source": [
    "4.A.2. Prihodi prema broju zaposlenih\n",
    "\n",
    "Prihod se analizira u odnosu na broj zaposlenih kako bi se utvrdilo postoji li povezanost između broja zaposlenih i visine prihoda kompanije. Za ovu analizu koristi se linearna regresija, koja testira da li postoji linearan odnos između ove dve varijable. Uz regresiju, biće korišćen i scatter plot za vizualizaciju odnosa između broja zaposlenih i prihoda. Ukoliko se pokaže značajna povezanost, biće moguće doneti zaključke o tome kako promene u broju zaposlenih utiču na prihode.\n",
    "\n",
    "Nulta hipoteza (H₀): Nema linearne povezanosti između broja zaposlenih i prihoda.\n",
    "\n",
    "Alternativna hipoteza (H₁): Postoji linearna povezanost između broja zaposlenih i prihoda."
   ]
  },
  {
   "cell_type": "code",
   "execution_count": 64,
   "id": "2db8a826",
   "metadata": {},
   "outputs": [
    {
     "name": "stdout",
     "output_type": "stream",
     "text": [
      "Koeficijent: 85955.54081157812\n",
      "Intercept: 310764.8293602853\n"
     ]
    }
   ],
   "source": [
    "lr_model = LinearRegression()\n",
    "\n",
    "# Treniranje modela\n",
    "lr_model.fit(df_eda[['broj_zaposlenih']], df_eda['prihod'])\n",
    "\n",
    "# Predikcija\n",
    "predicted = lr_model.predict(df_eda[['broj_zaposlenih']])\n",
    "\n",
    "# Prikazivanje koeficijenata\n",
    "print(f'Koeficijent: {lr_model.coef_[0]}')\n",
    "print(f'Intercept: {lr_model.intercept_}')"
   ]
  },
  {
   "cell_type": "code",
   "execution_count": 65,
   "id": "f3106cac",
   "metadata": {},
   "outputs": [
    {
     "data": {
      "image/png": "[encoded data removed]",
      "text/plain": [
       "<Figure size 640x480 with 1 Axes>"
      ]
     },
     "metadata": {},
     "output_type": "display_data"
    }
   ],
   "source": [
    "sns.scatterplot(x='broj_zaposlenih', y='prihod', data=df_eda)\n",
    "plt.title('Scatter plot između prihoda i broja zaposlenih')\n",
    "plt.show()"
   ]
  },
  {
   "cell_type": "markdown",
   "id": "c28160ff",
   "metadata": {},
   "source": [
    "Zaključak\n",
    "\n",
    "Na osnovu rezultata linearne regresije, koeficijent od 122,246.73 ukazuje na to da za svaki dodatni zaposleni, prihod raste za približno 122,246.73 jedinica. Intercept od 79,039.23 označava očekivani prihod u slučaju kada broj zaposlenih iznosi nula. Sa pozitivnim koeficijentom, ovo sugeriše postojanje pozitivne linearne povezanosti između broja zaposlenih i prihoda kompanije.\n",
    "\n",
    "S obzirom na ove rezultate, može se zaključiti da veći broj zaposlenih ima pozitivan uticaj na prihod kompanije, odnosno, kako broj zaposlenih raste, prihod takođe raste.\n",
    "\n",
    "Nulta hipoteza (H₀): Ne postoji linearna povezanost između broja zaposlenih i prihoda.\n",
    "\n",
    "Alternativna hipoteza (H₁): Postoji linearna povezanost između broja zaposlenih i prihoda.\n",
    "\n",
    "Na osnovu analize, možemo odbaciti nultu hipotezu i prihvatiti alternativnu hipotezu, što znači da postoji statistički značajna linearna povezanost između broja zaposlenih i prihoda."
   ]
  },
  {
   "cell_type": "markdown",
   "id": "68932553",
   "metadata": {},
   "source": [
    "4.A.3. Prihodi prema vrsti sektora poslovanja\n",
    "\n",
    "U ovoj analizi posmatra se raspodela prihoda po različitim vrstama sektora poslovanja kako bi se identifikovali delatnosti sa najvećim i najmanjim prihodima."
   ]
  },
  {
   "cell_type": "code",
   "execution_count": 67,
   "id": "c110b058",
   "metadata": {},
   "outputs": [
    {
     "name": "stdout",
     "output_type": "stream",
     "text": [
      "- Sektor 91 (Delatnost biblioteka, arhiva, muzeja galerija i zbirki i ostale kulturne delatnosti):\n",
      "  Prosečan prihod: 42709925.75\n",
      "  Broj kompanija: 4\n",
      "\n",
      "- Sektor 10 (Proizvodnja prehrambenih proizvoda):\n",
      "  Prosečan prihod: 12574116.95\n",
      "  Broj kompanija: 20\n",
      "\n",
      "- Sektor 42 (Izgradnja ostalih građevina):\n",
      "  Prosečan prihod: 2715858.31\n",
      "  Broj kompanija: 16\n",
      "\n",
      "- Sektor 59 (Kinematografska i televizijska produkcija, snimanje zvučnih zapisa i izdavanje muzičkih zapisa):\n",
      "  Prosečan prihod: 2449721.67\n",
      "  Broj kompanija: 12\n",
      "\n",
      "- Sektor 72 (Naučno istraživanje i razvoj):\n",
      "  Prosečan prihod: 2418715.4\n",
      "  Broj kompanija: 15\n",
      "\n"
     ]
    }
   ],
   "source": [
    "# 5 sektora sa najvećim prihodima\n",
    "top5_sektora = (\n",
    "    df_eda.groupby('sektor')['prihod']\n",
    "    .mean()\n",
    "    .sort_values(ascending=False)\n",
    "    .head(5)\n",
    "    .reset_index()\n",
    ")\n",
    "\n",
    "company_count = df_eda.groupby('sektor')['prihod'].count().reset_index(name='company_count')\n",
    "\n",
    "top5_sektora = top5_sektora.merge(delatnosti_df, left_on='sektor', right_on='CODE', how='left')\n",
    "top5_sektora = top5_sektora.merge(company_count, on='sektor', how='left')\n",
    "\n",
    "top5_sorted = top5_sektora.sort_values(by='prihod', ascending=False)\n",
    "\n",
    "for i, row in top5_sorted.iterrows():\n",
    "    print(f\"- Sektor {row['sektor']} ({row['LAT']}):\\n\"\n",
    "          f\"  Prosečan prihod: {round(row['prihod'], 2)}\\n\"\n",
    "          f\"  Broj kompanija: {row['company_count']}\\n\")"
   ]
  },
  {
   "cell_type": "code",
   "execution_count": 69,
   "id": "089e7d7b",
   "metadata": {},
   "outputs": [
    {
     "name": "stdout",
     "output_type": "stream",
     "text": [
      "- Sektor 14 (Proizvodnja odevnih predmeta):\n",
      "  Prosečan prihod: 60831.75\n",
      "  Broj kompanija: 8\n",
      "\n",
      "- Sektor 85 (Obrazovanje):\n",
      "  Prosečan prihod: 71423.67\n",
      "  Broj kompanija: 48\n",
      "\n",
      "- Sektor 96 (Ostale lične uslužne delatnosti):\n",
      "  Prosečan prihod: 79869.3\n",
      "  Broj kompanija: 23\n",
      "\n",
      "- Sektor 69 (Pravni i računovodstveni poslovi):\n",
      "  Prosečan prihod: 121143.31\n",
      "  Broj kompanija: 77\n",
      "\n",
      "- Sektor 66 (Pomoćne delatnosti u pružanju finansijskih usluga i osiguranju):\n",
      "  Prosečan prihod: 123794.0\n",
      "  Broj kompanija: 20\n",
      "\n"
     ]
    }
   ],
   "source": [
    "# 5 sektora sa najnižim prihodima\n",
    "bottom5_sektora = (\n",
    "    df_eda.groupby('sektor')['prihod']\n",
    "    .mean()\n",
    "    .sort_values(ascending=False)\n",
    "    .tail(5)\n",
    "    .reset_index()\n",
    ")\n",
    "\n",
    "company_count = df_eda.groupby('sektor')['prihod'].count().reset_index(name='company_count')\n",
    "\n",
    "bottom5_sektora = bottom5_sektora.merge(delatnosti_df, left_on='sektor', right_on='CODE', how='left')\n",
    "bottom5_sektora = bottom5_sektora.merge(company_count, on='sektor', how='left')\n",
    "\n",
    "top5_sorted = bottom5_sektora.sort_values(by='prihod', ascending=True)\n",
    "\n",
    "for i, row in top5_sorted.iterrows():\n",
    "    print(f\"- Sektor {row['sektor']} ({row['LAT']}):\\n\"\n",
    "          f\"  Prosečan prihod: {round(row['prihod'], 2)}\\n\"\n",
    "          f\"  Broj kompanija: {row['company_count']}\\n\")"
   ]
  },
  {
   "cell_type": "markdown",
   "id": "756380eb",
   "metadata": {},
   "source": [
    "4.A.4. Broj zaposlenih prema sektoru poslovanja\n",
    "\n",
    "Poređenje broja zaposlenih prema delatnosti poslovanja omogućava analizu veze između broja radnika i specifičnosti industrije.\n",
    "Hipoteza: Sektori sa većim obimom poslovanja ili specifičnim potrebama često zahtevaju veći broj zaposlenih, dok manji ili efikasniji sektori mogu operisati sa manjim brojem radnika.\n",
    "Ovaj pregled pomaže u identifikaciji obrazaca zapošljavanja unutar različitih industrija i može biti koristan za procenu resursnih potreba po sektorima."
   ]
  },
  {
   "cell_type": "code",
   "execution_count": null,
   "id": "04c36ea6",
   "metadata": {},
   "outputs": [],
   "source": []
  },
  {
   "cell_type": "markdown",
   "id": "6e146331",
   "metadata": {},
   "source": [
    "4.A.5. Analiza izolovanih slučajeva (outlier amaliza)"
   ]
  },
  {
   "cell_type": "markdown",
   "id": "18de28e1",
   "metadata": {},
   "source": [
    "#### 4.B. Rashodi"
   ]
  },
  {
   "cell_type": "markdown",
   "id": "2cd074e8",
   "metadata": {},
   "source": [
    "4.B.1. Sektori i industrije sa najvišim i najnižim operativnim rashodima."
   ]
  },
  {
   "cell_type": "code",
   "execution_count": null,
   "id": "9296221b",
   "metadata": {},
   "outputs": [],
   "source": []
  },
  {
   "cell_type": "markdown",
   "id": "b66b92da",
   "metadata": {},
   "source": [
    "#### 4.C. Neto dobit\n"
   ]
  },
  {
   "cell_type": "markdown",
   "id": "4f66efc2",
   "metadata": {},
   "source": [
    "4.C.1. Najprofitabilnije i najmanje profitabilni sektori i industrije.\n"
   ]
  },
  {
   "cell_type": "code",
   "execution_count": null,
   "id": "b0b1e42d",
   "metadata": {},
   "outputs": [],
   "source": []
  },
  {
   "cell_type": "markdown",
   "id": "4b27673c",
   "metadata": {},
   "source": [
    "4.C.2. Neto dobit i broj zaposlenih. -- da li je optimalna utilitizacija zaposlenih u konververziji prihoda u neto dobit\n"
   ]
  },
  {
   "cell_type": "code",
   "execution_count": null,
   "id": "01f442ba",
   "metadata": {},
   "outputs": [],
   "source": []
  },
  {
   "cell_type": "markdown",
   "id": "da9e3dc7",
   "metadata": {},
   "source": [
    "4.C.D. Povezanost boniteta i neto dobiti kompanija."
   ]
  },
  {
   "cell_type": "code",
   "execution_count": null,
   "id": "e0c87648",
   "metadata": {},
   "outputs": [],
   "source": []
  },
  {
   "cell_type": "markdown",
   "id": "34e7892c",
   "metadata": {},
   "source": [
    "4.C.5. Analiza izolovanih slučajeva (outlier): kompanije sa ekstremno visokim prihodom, ali niskom neto maržom."
   ]
  },
  {
   "cell_type": "code",
   "execution_count": null,
   "id": "fdfb4370",
   "metadata": {},
   "outputs": [],
   "source": []
  },
  {
   "cell_type": "markdown",
   "id": "1eb42f03",
   "metadata": {},
   "source": [
    "#### 4.D. Amortizacija kao pokazatelj kapitalnih investiranja"
   ]
  },
  {
   "cell_type": "markdown",
   "id": "4a51e3e8",
   "metadata": {},
   "source": [
    "4.D.1. Analiza povezanosti vrednosti amortizacije i prihoda, po sektoru, veličini i bonitetu"
   ]
  },
  {
   "cell_type": "code",
   "execution_count": null,
   "id": "40f557c9",
   "metadata": {},
   "outputs": [],
   "source": []
  },
  {
   "cell_type": "markdown",
   "id": "152dcc18",
   "metadata": {},
   "source": [
    "4.D.2. Prossečan neto povraćaj na kapitalna ulaganja."
   ]
  },
  {
   "cell_type": "code",
   "execution_count": null,
   "id": "0d4bc5b0",
   "metadata": {},
   "outputs": [],
   "source": []
  },
  {
   "cell_type": "markdown",
   "id": "6dfffa0a",
   "metadata": {},
   "source": [
    "4.D.3. Prosečna kapitalna ulaganja po zaposlenom po sektoru poslovanja."
   ]
  },
  {
   "cell_type": "code",
   "execution_count": null,
   "id": "16cefc54",
   "metadata": {},
   "outputs": [],
   "source": []
  },
  {
   "cell_type": "markdown",
   "id": "1f48260b",
   "metadata": {},
   "source": [
    "4.E.4. Marža amortizacije: veličina, bonitet, sektor poslovanja."
   ]
  },
  {
   "cell_type": "code",
   "execution_count": null,
   "id": "fe2f30e7",
   "metadata": {},
   "outputs": [],
   "source": []
  },
  {
   "cell_type": "markdown",
   "id": "cef18b5c",
   "metadata": {},
   "source": [
    "4.E.5. Marža kamate i poreza. veličina i sektor poslovanja."
   ]
  },
  {
   "cell_type": "code",
   "execution_count": null,
   "id": "2420c7d8",
   "metadata": {},
   "outputs": [],
   "source": []
  },
  {
   "cell_type": "markdown",
   "id": "c3a0ed66",
   "metadata": {},
   "source": [
    "#### 4.F. Zaposleni"
   ]
  },
  {
   "cell_type": "markdown",
   "id": "7e1c6e27",
   "metadata": {},
   "source": [
    "4.F.1. Prosečan broj zaposlenih prema industriji i sektoru poslovanja."
   ]
  },
  {
   "cell_type": "code",
   "execution_count": null,
   "id": "6458ab1b",
   "metadata": {},
   "outputs": [],
   "source": []
  },
  {
   "cell_type": "markdown",
   "id": "04cf99bc",
   "metadata": {},
   "source": [
    "4.F.2. Test normalne distribucije zaposlenih po prihodima"
   ]
  },
  {
   "cell_type": "code",
   "execution_count": null,
   "id": "7adc52e6",
   "metadata": {},
   "outputs": [],
   "source": []
  },
  {
   "cell_type": "markdown",
   "id": "10217e9c",
   "metadata": {},
   "source": [
    "4.F.3. Prosečan broj zaposlenih prema bonitetnom skoru."
   ]
  },
  {
   "cell_type": "code",
   "execution_count": null,
   "id": "0f02f45b",
   "metadata": {},
   "outputs": [],
   "source": []
  },
  {
   "cell_type": "markdown",
   "id": "f119c412",
   "metadata": {},
   "source": [
    "4.E.4. Marža amortizacije: veličina, bonitet, sektor poslovanja"
   ]
  },
  {
   "cell_type": "code",
   "execution_count": null,
   "id": "78abaade",
   "metadata": {},
   "outputs": [],
   "source": []
  },
  {
   "cell_type": "markdown",
   "id": "b69503a4",
   "metadata": {},
   "source": [
    "#### F. Zaposleni"
   ]
  },
  {
   "cell_type": "markdown",
   "id": "a6f25568",
   "metadata": {},
   "source": [
    "4.F.1. Prosečan broj zaposlenih prema industriji i sektoru poslovanja."
   ]
  },
  {
   "cell_type": "code",
   "execution_count": null,
   "id": "e4d27882",
   "metadata": {},
   "outputs": [],
   "source": []
  },
  {
   "cell_type": "markdown",
   "id": "5a41986d",
   "metadata": {},
   "source": [
    "4.F.2. Test normalne distribucije zaposlenih po prihodima."
   ]
  },
  {
   "cell_type": "code",
   "execution_count": null,
   "id": "4d793953",
   "metadata": {},
   "outputs": [],
   "source": []
  },
  {
   "cell_type": "markdown",
   "id": "dba144af",
   "metadata": {},
   "source": [
    "4.F.3. Prosečan broj zaposlenih prema bonitetnom skoru."
   ]
  },
  {
   "cell_type": "code",
   "execution_count": null,
   "id": "5fc8bad1",
   "metadata": {},
   "outputs": [],
   "source": []
  },
  {
   "cell_type": "markdown",
   "id": "fa19b54c",
   "metadata": {},
   "source": [
    "4.F.4. Prosečan broj zaposlenih prema dekadi osnivanja."
   ]
  },
  {
   "cell_type": "code",
   "execution_count": null,
   "id": "9bbd1996",
   "metadata": {},
   "outputs": [],
   "source": []
  },
  {
   "cell_type": "markdown",
   "id": "e77c9f7e",
   "metadata": {},
   "source": [
    "#### G. Ostalo"
   ]
  },
  {
   "cell_type": "markdown",
   "id": "d5e8b4d4",
   "metadata": {},
   "source": [
    "4.G.1. Brojčana prezentacija kompanija po veličini"
   ]
  },
  {
   "cell_type": "code",
   "execution_count": null,
   "id": "97fbd334",
   "metadata": {},
   "outputs": [],
   "source": []
  },
  {
   "cell_type": "markdown",
   "id": "ba4a9d08",
   "metadata": {},
   "source": [
    "4.G.2. Brojčana prezentacija kompanija po bonitetnoj oceni"
   ]
  },
  {
   "cell_type": "code",
   "execution_count": null,
   "id": "06712c12",
   "metadata": {},
   "outputs": [],
   "source": []
  },
  {
   "cell_type": "markdown",
   "id": "99bb5c5d",
   "metadata": {},
   "source": [
    "4.G.3. Najzastupljeniji sektori i industrije u novosadskih kompanija."
   ]
  },
  {
   "cell_type": "code",
   "execution_count": null,
   "id": "25e975a6",
   "metadata": {},
   "outputs": [],
   "source": []
  },
  {
   "cell_type": "markdown",
   "id": "f7366c4b",
   "metadata": {},
   "source": [
    "4.G.4. Trend analiza po dekadi osnivanja."
   ]
  },
  {
   "cell_type": "code",
   "execution_count": null,
   "id": "01725872",
   "metadata": {},
   "outputs": [],
   "source": []
  },
  {
   "cell_type": "markdown",
   "id": "c140ce84",
   "metadata": {},
   "source": [
    "#### H. Klaster analiza."
   ]
  },
  {
   "cell_type": "markdown",
   "id": "527caa22",
   "metadata": {},
   "source": [
    "Priprema i enkodiranje podataka"
   ]
  },
  {
   "cell_type": "code",
   "execution_count": null,
   "id": "f24847f4",
   "metadata": {},
   "outputs": [],
   "source": []
  }
 ],
 "metadata": {
  "kernelspec": {
   "display_name": "env",
   "language": "python",
   "name": "python3"
  },
  "language_info": {
   "codemirror_mode": {
    "name": "ipython",
    "version": 3
   },
   "file_extension": ".py",
   "mimetype": "text/x-python",
   "name": "python",
   "nbconvert_exporter": "python",
   "pygments_lexer": "ipython3",
   "version": "3.12.4"
  }
 },
 "nbformat": 4,
 "nbformat_minor": 5
}
